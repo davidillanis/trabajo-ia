{
 "cells": [
  {
   "cell_type": "code",
   "id": "initial_id",
   "metadata": {
    "collapsed": true,
    "ExecuteTime": {
     "end_time": "2024-10-22T02:24:08.204052Z",
     "start_time": "2024-10-22T02:24:08.049928Z"
    }
   },
   "source": [
    "import cv2\n",
    "import numpy as np"
   ],
   "outputs": [],
   "execution_count": 1
  },
  {
   "metadata": {
    "ExecuteTime": {
     "end_time": "2024-10-22T02:24:14.878881Z",
     "start_time": "2024-10-22T02:24:11.011542Z"
    }
   },
   "cell_type": "code",
   "source": [
    "# Cargar modelos pre-entrenados\n",
    "face_proto = \"./models/deploy.prototxt\"\n",
    "face_model = \"./models/res10_300x300_ssd_iter_140000.caffemodel\"\n",
    "age_proto = \"./models/age_deploy.prototxt\"\n",
    "age_model = \"./models/age_net.caffemodel\"\n",
    "\n",
    "age_ranges = ['(0-2)', '(4-6)', '(8-12)', '(15-20)', '(25-32)', '(38-43)', '(48-53)', '(60-100)']\n",
    "\n",
    "face_net = cv2.dnn.readNet(face_model, face_proto)\n",
    "age_net = cv2.dnn.readNet(age_model, age_proto)\n",
    "\n",
    "MODEL_MEAN_VALUES = (78.4263377603, 87.7689143744, 114.895847746)\n",
    "\n",
    "cap = cv2.VideoCapture(0)\n",
    "\n",
    "while True:\n",
    "    ret, frame = cap.read()\n",
    "    if not ret:\n",
    "        break\n",
    "\n",
    "    h, w = frame.shape[:2]\n",
    "    blob = cv2.dnn.blobFromImage(frame, 1.0, (300, 300), (104.0, 177.0, 123.0), swapRB=False, crop=False)\n",
    "    face_net.setInput(blob)\n",
    "    detections = face_net.forward()\n",
    "\n",
    "    for i in range(detections.shape[2]):\n",
    "        confidence = detections[0, 0, i, 2]\n",
    "        if confidence > 0.5:  # Si la confianza de la detección es alta\n",
    "            box = detections[0, 0, i, 3:7] * np.array([w, h, w, h])\n",
    "            (x, y, x1, y1) = box.astype(\"int\")\n",
    "            face = frame[y:y1, x:x1]\n",
    "            face_blob = cv2.dnn.blobFromImage(face, 1.0, (227, 227), MODEL_MEAN_VALUES, swapRB=False)\n",
    "            age_net.setInput(face_blob)\n",
    "            age_preds = age_net.forward()\n",
    "            age = age_ranges[age_preds[0].argmax()]\n",
    "\n",
    "            label = f\"Edad: {age}\"\n",
    "            cv2.putText(frame, label, (x, y - 10), cv2.FONT_HERSHEY_SIMPLEX, 0.8, (0, 255, 0), 2)\n",
    "            cv2.rectangle(frame, (x, y), (x1, y1), (0, 255, 0), 2)\n",
    "\n",
    "            if age in ['(0-2)', '(4-6)']:\n",
    "                cv2.putText(frame, \"Es un bebe\", (x, y1 + 30), cv2.FONT_HERSHEY_SIMPLEX, 0.8, (0, 0, 255), 2)\n",
    "\n",
    "    cv2.imshow(\"Deteccion de bebes\", frame)\n",
    "\n",
    "    if cv2.waitKey(1) & 0xFF == ord('q'):\n",
    "        break\n",
    "\n",
    "cap.release()\n",
    "cv2.destroyAllWindows()\n"
   ],
   "id": "957e13316dba1dce",
   "outputs": [
    {
     "name": "stderr",
     "output_type": "stream",
     "text": [
      "Warning: Ignoring XDG_SESSION_TYPE=wayland on Gnome. Use QT_QPA_PLATFORM=wayland to run on Wayland anyway.\n"
     ]
    }
   ],
   "execution_count": 2
  },
  {
   "metadata": {
    "ExecuteTime": {
     "end_time": "2024-10-22T02:18:03.493471Z",
     "start_time": "2024-10-22T02:18:03.383164Z"
    }
   },
   "cell_type": "code",
   "source": "",
   "id": "ceb74985ee5f64d1",
   "outputs": [
    {
     "name": "stderr",
     "output_type": "stream",
     "text": [
      "[ WARN:0@1259.850] global cap_v4l.cpp:999 open VIDEOIO(V4L2:/dev/video0): can't open camera by index\n",
      "[ERROR:0@1259.850] global obsensor_uvc_stream_channel.cpp:158 getStreamChannelGroup Camera index out of range\n"
     ]
    }
   ],
   "execution_count": 11
  },
  {
   "metadata": {
    "ExecuteTime": {
     "end_time": "2024-10-22T02:24:20.113376Z",
     "start_time": "2024-10-22T02:24:18.091005Z"
    }
   },
   "cell_type": "code",
   "source": [
    "cap = cv2.VideoCapture(0)\n",
    "\n",
    "while True:\n",
    "    ret, frame1 = cap.read()\n",
    "    if not ret:\n",
    "        break\n",
    "\n",
    "    cv2.imshow('frame', frame1)\n",
    "    key = cv2.waitKey(20) & 0xFF\n",
    "    if key == 27:  # Tecla ESC para salir\n",
    "        break\n",
    "\n",
    "cap.release()\n",
    "cv2.destroyAllWindows()\n"
   ],
   "id": "3f34d08093938c80",
   "outputs": [],
   "execution_count": 3
  },
  {
   "metadata": {
    "ExecuteTime": {
     "end_time": "2024-10-22T02:26:19.382309Z",
     "start_time": "2024-10-22T02:26:15.820770Z"
    }
   },
   "cell_type": "code",
   "source": [
    "import cv2\n",
    "import numpy as np\n",
    "\n",
    "class AgeDetector:\n",
    "    def __init__(self, face_proto=\"./models/deploy.prototxt\", face_model=\"./models/res10_300x300_ssd_iter_140000.caffemodel\", age_proto=\"./models/age_deploy.prototxt\", age_model=\"./models/age_net.caffemodel\"):\n",
    "        self.face_net = cv2.dnn.readNet(face_model, face_proto)\n",
    "        self.age_net = cv2.dnn.readNet(age_model, age_proto)\n",
    "        self.age_ranges = ['(0-2)', '(4-6)', '(8-12)', '(15-20)', '(25-32)', '(38-43)', '(48-53)', '(60-100)']\n",
    "        self.model_mean_values = (78.4263377603, 87.7689143744, 114.895847746)\n",
    "\n",
    "    def detect_age(self, frame):\n",
    "        h, w = frame.shape[:2]\n",
    "        blob = cv2.dnn.blobFromImage(frame, 1.0, (300, 300), (104.0, 177.0, 123.0), swapRB=False, crop=False)\n",
    "        self.face_net.setInput(blob)\n",
    "        detections = self.face_net.forward()\n",
    "\n",
    "        for i in range(detections.shape[2]):\n",
    "            confidence = detections[0, 0, i, 2]\n",
    "            if confidence > 0.5:  # Only process detections with confidence higher than 0.5\n",
    "                box = detections[0, 0, i, 3:7] * np.array([w, h, w, h])\n",
    "                (x, y, x1, y1) = box.astype(\"int\")\n",
    "                face = frame[y:y1, x:x1]\n",
    "\n",
    "                face_blob = cv2.dnn.blobFromImage(face, 1.0, (227, 227), self.model_mean_values, swapRB=False)\n",
    "                self.age_net.setInput(face_blob)\n",
    "                age_preds = self.age_net.forward()\n",
    "                age = self.age_ranges[age_preds[0].argmax()]\n",
    "\n",
    "                label = f\"Edad: {age}\"\n",
    "                cv2.putText(frame, label, (x, y - 10), cv2.FONT_HERSHEY_SIMPLEX, 0.8, (0, 255, 0), 2)\n",
    "                cv2.rectangle(frame, (x, y), (x1, y1), (0, 255, 0), 2)\n",
    "\n",
    "                if age in ['(0-2)', '(4-6)']:\n",
    "                    cv2.putText(frame, \"Es un bebe\", (x, y1 + 30), cv2.FONT_HERSHEY_SIMPLEX, 0.8, (0, 0, 255), 2)\n",
    "\n",
    "        return frame\n",
    "\n",
    "def main():\n",
    "    \n",
    "    detector = AgeDetector(face_proto, face_model, age_proto, age_model)\n",
    "\n",
    "    cap = cv2.VideoCapture(0)\n",
    "\n",
    "    while True:\n",
    "        ret, frame = cap.read()\n",
    "        if not ret:\n",
    "            break\n",
    "\n",
    "        # Detect age and display result\n",
    "        frame = detector.detect_age(frame)\n",
    "        cv2.imshow(\"Deteccion de bebes\", frame)\n",
    "\n",
    "        if cv2.waitKey(1) & 0xFF == ord('q'):\n",
    "            break\n",
    "\n",
    "    cap.release()\n",
    "    cv2.destroyAllWindows()\n",
    "\n",
    "if __name__ == \"__main__\":\n",
    "    main()\n"
   ],
   "id": "bb6e40b29196a728",
   "outputs": [],
   "execution_count": 4
  },
  {
   "metadata": {},
   "cell_type": "code",
   "outputs": [],
   "execution_count": null,
   "source": "",
   "id": "ca61710b9150c506"
  }
 ],
 "metadata": {
  "kernelspec": {
   "display_name": "Python 3",
   "language": "python",
   "name": "python3"
  },
  "language_info": {
   "codemirror_mode": {
    "name": "ipython",
    "version": 2
   },
   "file_extension": ".py",
   "mimetype": "text/x-python",
   "name": "python",
   "nbconvert_exporter": "python",
   "pygments_lexer": "ipython2",
   "version": "2.7.6"
  }
 },
 "nbformat": 4,
 "nbformat_minor": 5
}
