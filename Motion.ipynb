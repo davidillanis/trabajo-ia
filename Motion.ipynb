{
 "cells": [
  {
   "cell_type": "code",
   "id": "initial_id",
   "metadata": {
    "collapsed": true,
    "ExecuteTime": {
     "end_time": "2024-10-18T20:38:18.261480Z",
     "start_time": "2024-10-18T20:38:10.714454Z"
    }
   },
   "source": [
    "# https://www.youtube.com/watch?v=H7FVTEYO4Gw&t=303s\n",
    "import cv2\n",
    "\n",
    "cap = cv2.VideoCapture(0)\n",
    "\n",
    "while True:\n",
    "    _, camera = cap.read()\n",
    "    _, camera2 = cap.read() \n",
    "    diff = cv2.absdiff(camera, camera2) # camera gray superficial\n",
    "    gray = cv2.cvtColor(diff, cv2.COLOR_BGR2GRAY) #camera gray scale\n",
    "    blur = cv2.GaussianBlur(gray, (5, 5), 0)\n",
    "    _, thresh = cv2.threshold(blur, 20, 255, cv2.THRESH_BINARY) #image black or withe\n",
    "    dilated = cv2.dilate(thresh, None, iterations=3)# camera pixel extend\n",
    "    contours, _=cv2.findContours(dilated, cv2.RETR_TREE, cv2.CHAIN_APPROX_SIMPLE)\n",
    "    #cv2.drawContours(camera, contours, -1, (0, 0, 255), 2)\n",
    "    \n",
    "    for contour in contours:\n",
    "        if cv2.contourArea(contour) < 5000:\n",
    "            continue\n",
    "        x, y, w, h = cv2.boundingRect(contour)\n",
    "        cv2.rectangle(camera, (x, y), (x+w, y+h), (0, 255, 0), 2)\n",
    "        print(\"MOVIENDO\")\n",
    "        \n",
    "    if cv2.waitKey(10)==ord(\"q\"):\n",
    "        break\n",
    "    cv2.imshow(\"camera\", camera)\n",
    "\n",
    "cap.release()\n",
    "cv2.destroyAllWindows()"
   ],
   "outputs": [
    {
     "name": "stdout",
     "output_type": "stream",
     "text": [
      "MOVIENDO\n",
      "MOVIENDO\n",
      "MOVIENDO\n",
      "MOVIENDO\n",
      "MOVIENDO\n",
      "MOVIENDO\n",
      "MOVIENDO\n",
      "MOVIENDO\n",
      "MOVIENDO\n"
     ]
    }
   ],
   "execution_count": 6
  },
  {
   "metadata": {
    "ExecuteTime": {
     "end_time": "2024-10-18T16:28:04.611459Z",
     "start_time": "2024-10-18T16:28:04.379820Z"
    }
   },
   "cell_type": "code",
   "source": "import winsound",
   "id": "2a2507029597f353",
   "outputs": [
    {
     "ename": "ModuleNotFoundError",
     "evalue": "No module named 'winsound'",
     "output_type": "error",
     "traceback": [
      "\u001B[0;31m---------------------------------------------------------------------------\u001B[0m",
      "\u001B[0;31mModuleNotFoundError\u001B[0m                       Traceback (most recent call last)",
      "Cell \u001B[0;32mIn[2], line 1\u001B[0m\n\u001B[0;32m----> 1\u001B[0m \u001B[38;5;28;01mimport\u001B[39;00m \u001B[38;5;21;01mwinsound\u001B[39;00m\n",
      "\u001B[0;31mModuleNotFoundError\u001B[0m: No module named 'winsound'"
     ]
    }
   ],
   "execution_count": 2
  },
  {
   "metadata": {},
   "cell_type": "code",
   "outputs": [],
   "execution_count": null,
   "source": "",
   "id": "351e50003fb2878f"
  }
 ],
 "metadata": {
  "kernelspec": {
   "display_name": "Python 3",
   "language": "python",
   "name": "python3"
  },
  "language_info": {
   "codemirror_mode": {
    "name": "ipython",
    "version": 2
   },
   "file_extension": ".py",
   "mimetype": "text/x-python",
   "name": "python",
   "nbconvert_exporter": "python",
   "pygments_lexer": "ipython2",
   "version": "2.7.6"
  }
 },
 "nbformat": 4,
 "nbformat_minor": 5
}
